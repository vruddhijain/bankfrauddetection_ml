{
  "nbformat": 4,
  "nbformat_minor": 0,
  "metadata": {
    "colab": {
      "provenance": []
    },
    "kernelspec": {
      "name": "python3",
      "display_name": "Python 3"
    },
    "language_info": {
      "name": "python"
    }
  },
  "cells": [
    {
      "cell_type": "code",
      "source": [
        "import pandas as pd\n",
        "import seaborn as sns\n",
        "import matplotlib.pyplot as plt\n",
        "data = pd.read_csv('/content/Fraud.csv')\n",
        "print(data.head(20))\n",
        "\n",
        "missing_values = data.isnull().sum()\n",
        "print(\"Missing Values:\")\n",
        "print(missing_values)"
      ],
      "metadata": {
        "colab": {
          "base_uri": "https://localhost:8080/"
        },
        "id": "mWeeAN2GzrzH",
        "outputId": "5ee36591-4e58-468b-e765-20dce5997e6b"
      },
      "execution_count": 27,
      "outputs": [
        {
          "output_type": "stream",
          "name": "stdout",
          "text": [
            "    step      type     amount     nameOrig  oldbalanceOrg  newbalanceOrig  \\\n",
            "0      1   PAYMENT    9839.64  C1231006815      170136.00       160296.36   \n",
            "1      1   PAYMENT    1864.28  C1666544295       21249.00        19384.72   \n",
            "2      1  TRANSFER     181.00  C1305486145         181.00            0.00   \n",
            "3      1  CASH_OUT     181.00   C840083671         181.00            0.00   \n",
            "4      1   PAYMENT   11668.14  C2048537720       41554.00        29885.86   \n",
            "5      1   PAYMENT    7817.71    C90045638       53860.00        46042.29   \n",
            "6      1   PAYMENT    7107.77   C154988899      183195.00       176087.23   \n",
            "7      1   PAYMENT    7861.64  C1912850431      176087.23       168225.59   \n",
            "8      1   PAYMENT    4024.36  C1265012928        2671.00            0.00   \n",
            "9      1     DEBIT    5337.77   C712410124       41720.00        36382.23   \n",
            "10     1     DEBIT    9644.94  C1900366749        4465.00            0.00   \n",
            "11     1   PAYMENT    3099.97   C249177573       20771.00        17671.03   \n",
            "12     1   PAYMENT    2560.74  C1648232591        5070.00         2509.26   \n",
            "13     1   PAYMENT   11633.76  C1716932897       10127.00            0.00   \n",
            "14     1   PAYMENT    4098.78  C1026483832      503264.00       499165.22   \n",
            "15     1  CASH_OUT  229133.94   C905080434       15325.00            0.00   \n",
            "16     1   PAYMENT    1563.82   C761750706         450.00            0.00   \n",
            "17     1   PAYMENT    1157.86  C1237762639       21156.00        19998.14   \n",
            "18     1   PAYMENT     671.64  C2033524545       15123.00        14451.36   \n",
            "19     1  TRANSFER  215310.30  C1670993182         705.00            0.00   \n",
            "\n",
            "       nameDest  oldbalanceDest  newbalanceDest  isFraud  isFlaggedFraud  \n",
            "0   M1979787155             0.0            0.00      0.0             0.0  \n",
            "1   M2044282225             0.0            0.00      0.0             0.0  \n",
            "2    C553264065             0.0            0.00      1.0             0.0  \n",
            "3     C38997010         21182.0            0.00      1.0             0.0  \n",
            "4   M1230701703             0.0            0.00      0.0             0.0  \n",
            "5    M573487274             0.0            0.00      0.0             0.0  \n",
            "6    M408069119             0.0            0.00      0.0             0.0  \n",
            "7    M633326333             0.0            0.00      0.0             0.0  \n",
            "8   M1176932104             0.0            0.00      0.0             0.0  \n",
            "9    C195600860         41898.0        40348.79      0.0             0.0  \n",
            "10   C997608398         10845.0       157982.12      0.0             0.0  \n",
            "11  M2096539129             0.0            0.00      0.0             0.0  \n",
            "12   M972865270             0.0            0.00      0.0             0.0  \n",
            "13   M801569151             0.0            0.00      0.0             0.0  \n",
            "14  M1635378213             0.0            0.00      0.0             0.0  \n",
            "15   C476402209          5083.0        51513.44      0.0             0.0  \n",
            "16  M1731217984             0.0            0.00      0.0             0.0  \n",
            "17  M1877062907             0.0            0.00      0.0             0.0  \n",
            "18   M473053293             0.0            0.00      0.0             0.0  \n",
            "19  C1100439041         22425.0            0.00      0.0             0.0  \n",
            "Missing Values:\n",
            "step              0\n",
            "type              0\n",
            "amount            0\n",
            "nameOrig          1\n",
            "oldbalanceOrg     1\n",
            "newbalanceOrig    1\n",
            "nameDest          1\n",
            "oldbalanceDest    1\n",
            "newbalanceDest    1\n",
            "isFraud           1\n",
            "isFlaggedFraud    1\n",
            "dtype: int64\n"
          ]
        }
      ]
    },
    {
      "cell_type": "code",
      "source": [
        "data.drop(['nameOrig', 'nameDest'], axis=1, inplace=True)\n",
        "\n",
        "print(data.head())"
      ],
      "metadata": {
        "colab": {
          "base_uri": "https://localhost:8080/"
        },
        "id": "Lgw85XQI0Wlc",
        "outputId": "dd5e10d4-9c09-4f82-97e4-9f85c58ab325"
      },
      "execution_count": 28,
      "outputs": [
        {
          "output_type": "stream",
          "name": "stdout",
          "text": [
            "   step      type    amount  oldbalanceOrg  newbalanceOrig  oldbalanceDest  \\\n",
            "0     1   PAYMENT   9839.64       170136.0       160296.36             0.0   \n",
            "1     1   PAYMENT   1864.28        21249.0        19384.72             0.0   \n",
            "2     1  TRANSFER    181.00          181.0            0.00             0.0   \n",
            "3     1  CASH_OUT    181.00          181.0            0.00         21182.0   \n",
            "4     1   PAYMENT  11668.14        41554.0        29885.86             0.0   \n",
            "\n",
            "   newbalanceDest  isFraud  isFlaggedFraud  \n",
            "0             0.0      0.0             0.0  \n",
            "1             0.0      0.0             0.0  \n",
            "2             0.0      1.0             0.0  \n",
            "3             0.0      1.0             0.0  \n",
            "4             0.0      0.0             0.0  \n"
          ]
        }
      ]
    },
    {
      "cell_type": "code",
      "source": [
        "plt.figure(figsize=(12, 6))\n",
        "plt.subplot(2, 1, 1)\n",
        "data.hist(bins=20)\n",
        "plt.title(\"Histogram Before Handling Outliers\")\n",
        "plt.tight_layout()"
      ],
      "metadata": {
        "colab": {
          "base_uri": "https://localhost:8080/",
          "height": 745
        },
        "id": "pYJVfpjz1TSB",
        "outputId": "70a11b3a-d5f9-45a7-e979-cf0d5352a2d7"
      },
      "execution_count": 23,
      "outputs": [
        {
          "output_type": "display_data",
          "data": {
            "text/plain": [
              "<Figure size 1200x600 with 1 Axes>"
            ],
            "image/png": "[encoded data removed]"
          },
          "metadata": {}
        },
        {
          "output_type": "display_data",
          "data": {
            "text/plain": [
              "<Figure size 640x480 with 9 Axes>"
            ],
            "image/png": "[encoded data removed]"
          },
          "metadata": {}
        }
      ]
    },
    {
      "cell_type": "code",
      "source": [],
      "metadata": {
        "id": "n06K43cs17ok"
      },
      "execution_count": 35,
      "outputs": []
    },
    {
      "cell_type": "code",
      "source": [],
      "metadata": {
        "id": "UyLAn2k42Mdv"
      },
      "execution_count": 35,
      "outputs": []
    },
    {
      "cell_type": "code",
      "source": [
        "import pandas as pd\n",
        "import numpy as np\n",
        "from sklearn.model_selection import train_test_split\n",
        "from sklearn.linear_model import LogisticRegression\n",
        "from sklearn.metrics import accuracy_score, confusion_matrix, classification_report\n",
        "from sklearn.preprocessing import StandardScaler, LabelEncoder\n",
        "from imblearn.under_sampling import NearMiss\n",
        "from sklearn.decomposition import PCA\n",
        "from sklearn.impute import SimpleImputer\n",
        "\n",
        "\n",
        "# Step 2: Data Cleaning\n",
        "# Handling Missing Values - Mean Imputation for numerical columns (excluding 'isFraud')\n",
        "numerical_cols = ['step', 'amount', 'oldbalanceOrg', 'newbalanceOrig', 'oldbalanceDest', 'newbalanceDest']\n",
        "data[numerical_cols] = data[numerical_cols].fillna(data[numerical_cols].mean())\n",
        "data['isFraud'] = data['isFraud'].fillna(0)\n",
        "data['isFlaggedFraud'] = data['isFlaggedFraud'].fillna(0)\n",
        "# Check for any remaining NaN values in the feature matrix X\n",
        "missing_values = data.isnull().sum()\n",
        "print(\"Missing Values After Handling:\")\n",
        "print(missing_values)\n",
        "\n",
        "# Step 3: Feature Engineering\n",
        "# Convert categorical variable 'type' to numerical values using LabelEncoder\n",
        "label_encoder = LabelEncoder()\n",
        "data['type'] = label_encoder.fit_transform(data['type'])\n",
        "\n",
        "\n",
        "\n",
        "# Step 5: Split the data into features (X) and the target variable (y)\n",
        "X = data.drop('isFraud', axis=1)\n",
        "y = data['isFraud']\n",
        "\n",
        "# Step 6: Handling Class Imbalance using NearMiss (undersampling the majority class)\n",
        "nm = NearMiss()\n",
        "X_resampled, y_resampled = nm.fit_resample(X, y)\n",
        "\n",
        "# Step 7: Apply Principal Component Analysis (PCA) for Dimensionality Reduction\n",
        "num_components = 5  # Set the number of principal components\n",
        "pca = PCA(n_components=num_components)\n",
        "X_resampled_pca = pca.fit_transform(X_resampled)\n",
        "\n",
        "# Step 8: Split the resampled data into training and validation sets\n",
        "X_train, X_val, y_train, y_val = train_test_split(X_resampled_pca, y_resampled, test_size=0.2, random_state=42)\n",
        "\n",
        "# Step 9: Feature Scaling\n",
        "scaler = StandardScaler()\n",
        "X_train_scaled = scaler.fit_transform(X_train)\n",
        "X_val_scaled = scaler.transform(X_val)\n",
        "\n",
        "# Step 10: Model Building - Logistic Regression\n",
        "model = LogisticRegression()\n",
        "model.fit(X_train_scaled, y_train)\n",
        "\n",
        "# Step 11: Model Evaluation\n",
        "y_pred = model.predict(X_val_scaled)\n",
        "accuracy = accuracy_score(y_val, y_pred)\n",
        "conf_matrix = confusion_matrix(y_val, y_pred)\n",
        "class_report = classification_report(y_val, y_pred)\n",
        "\n",
        "print(\"Accuracy:\", accuracy)\n",
        "print(\"Confusion Matrix:\")\n",
        "print(conf_matrix)\n",
        "print(\"Classification Report:\")\n",
        "print(class_report)\n"
      ],
      "metadata": {
        "colab": {
          "base_uri": "https://localhost:8080/"
        },
        "id": "E-VRUjsR28NV",
        "outputId": "fe3518bc-e34b-4d7e-a058-23e20b6dd3c4"
      },
      "execution_count": 35,
      "outputs": [
        {
          "output_type": "stream",
          "name": "stdout",
          "text": [
            "Missing Values After Handling:\n",
            "step              0\n",
            "type              0\n",
            "amount            0\n",
            "oldbalanceOrg     0\n",
            "newbalanceOrig    0\n",
            "oldbalanceDest    0\n",
            "newbalanceDest    0\n",
            "isFraud           0\n",
            "isFlaggedFraud    0\n",
            "dtype: int64\n",
            "Accuracy: 0.75\n",
            "Confusion Matrix:\n",
            "[[24  0]\n",
            " [12 12]]\n",
            "Classification Report:\n",
            "              precision    recall  f1-score   support\n",
            "\n",
            "         0.0       0.67      1.00      0.80        24\n",
            "         1.0       1.00      0.50      0.67        24\n",
            "\n",
            "    accuracy                           0.75        48\n",
            "   macro avg       0.83      0.75      0.73        48\n",
            "weighted avg       0.83      0.75      0.73        48\n",
            "\n"
          ]
        }
      ]
    },
    {
      "cell_type": "code",
      "source": [
        "# Data Cleaning:\n",
        "# During data cleaning, I handled missing values for numerical columns (excluding 'isFraud') by performing mean imputation. I filled the missing values in the 'isFraud' and 'isFlaggedFraud' columns with 0 to handle any remaining NaNs. After handling missing values, I checked for any remaining NaN values in the feature matrix X to ensure data integrity.\n",
        "\n",
        "# Fraud Detection Model:\n",
        "# The fraud detection model I developed is based on Logistic Regression. Logistic Regression is a suitable choice for binary classification tasks, like fraud detection, as it estimates the probability of a transaction being fraudulent based on input features. In this case, it predicts the likelihood of a transaction being a fraud based on variables such as transaction type, amount, balances, and flagged fraud attempts.\n",
        "\n",
        "# Variable Selection:\n",
        "# The variables included in the model were selected based on their potential relevance to fraud detection. Features such as 'step', 'amount', 'oldbalanceOrg', 'newbalanceOrig', 'oldbalanceDest', 'newbalanceDest', and 'type' were considered essential indicators of fraudulent behavior. The 'type' feature was encoded using LabelEncoder to convert categorical data to numerical values.\n",
        "\n",
        "# Model Performance:\n",
        "# I evaluated the performance of the fraud detection model using metrics like accuracy, confusion matrix, precision, recall, and F1-score. These metrics provide insights into how well the model predicts fraudulent transactions. The choice of evaluation metrics may vary based on the specific requirements of the financial company.\n",
        "\n",
        "# Key Factors for Predicting Fraudulent Customers:\n",
        "# The key factors that may predict fraudulent customers, based on the model, could include transaction type, amount, and flagged fraud attempts. Transactions categorized as 'CASH-OUT' or 'TRANSFER', especially with large amounts, and flagged fraud attempts might be strong indicators of fraudulent behavior.\n",
        "\n",
        "# Sense and Interpretation of Factors:\n",
        "# Yes, these factors make sense in the context of fraud detection. Fraudulent activities often involve transferring funds or cashing out large amounts, which are likely to be captured by the 'CASH-OUT' and 'TRANSFER' transaction types. Additionally, flagged fraud attempts are likely to be suspicious activities warranting further investigation.\n",
        "\n",
        "# Prevention Measures during Infrastructure Update:\n",
        "# To enhance fraud prevention, the company should adopt several prevention measures during infrastructure updates. These measures may include implementing robust authentication mechanisms, employing advanced anomaly detection algorithms, enhancing data encryption and security protocols, conducting regular security audits, and establishing real-time monitoring systems to identify and flag unusual transactions.\n",
        "\n",
        "# Evaluation of Implemented Actions:\n",
        "# After implementing prevention measures, the effectiveness can be determined by monitoring key performance indicators (KPIs) related to fraud detection and prevention. Metrics such as the number of detected fraud cases, false positives, false negatives, reduction in fraud losses, and increase in fraud detection rates can help assess the success of the prevention measures. Regular reviews, user feedback, and continuous improvement based on emerging fraud patterns are essential to evaluate and refine the effectiveness of the implemented actions."
      ],
      "metadata": {
        "id": "OcHW2TqOInEE"
      },
      "execution_count": 36,
      "outputs": []
    }
  ]
}